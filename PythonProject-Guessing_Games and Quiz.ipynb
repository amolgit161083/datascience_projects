{
 "cells": [
  {
   "cell_type": "markdown",
   "metadata": {
    "application/vnd.databricks.v1+cell": {
     "cellMetadata": {
      "byteLimit": 2048000,
      "rowLimit": 10000
     },
     "inputWidgets": {},
     "nuid": "315a71d3-7b73-4896-8ed7-51eb846a9625",
     "showTitle": false,
     "title": ""
    }
   },
   "source": [
    "# Let's play a number guessing game and a quiz."
   ]
  },
  {
   "cell_type": "code",
   "execution_count": 7,
   "metadata": {
    "application/vnd.databricks.v1+cell": {
     "cellMetadata": {
      "byteLimit": 2048000,
      "rowLimit": 10000
     },
     "inputWidgets": {},
     "nuid": "3eb180c1-4df9-45d1-aeb2-3a4b1c772002",
     "showTitle": false,
     "title": ""
    }
   },
   "outputs": [
    {
     "name": "stdout",
     "output_type": "stream",
     "text": [
      "2\n",
      "Hello user, enter your guess: 2\n",
      "You Win.\n",
      "Your guess is correct\n",
      "---------------------\n"
     ]
    }
   ],
   "source": [
    "import random as r\n",
    "r_num=r.randint(0,9)\n",
    "#r_num is a system generated random number\n",
    "\n",
    "print(r_num)\n",
    "user_guess=int(input('Hello user, enter your guess: '))\n",
    "\n",
    "if user_guess!= r_num:\n",
    "    print('---------------------')\n",
    "    print(f'''You have entered {user_guess}.\n",
    "Incorrect guess.Please enter your 2nd guess: ''')\n",
    "    Guess_2=int(input('Enter your 2nd guess: '))\n",
    "    print('---------------------')\n",
    "    if Guess_2!= r_num:\n",
    "        print('---------------------')\n",
    "        print(f'''You have entered {Guess_2}.\n",
    "Better luck next time.\n",
    "The correct guess is {r_num}''')\n",
    "    else:\n",
    "        print('''You Win.\n",
    "Your guess is correct''' )\n",
    "        print('---------------------')\n",
    "else:\n",
    "    print('''You Win.\n",
    "Your guess is correct''' )\n",
    "    print('---------------------')\n"
   ]
  },
  {
   "cell_type": "markdown",
   "metadata": {
    "application/vnd.databricks.v1+cell": {
     "cellMetadata": {},
     "inputWidgets": {},
     "nuid": "0600b16f-3be2-4b4e-b053-49d9f03b6469",
     "showTitle": false,
     "title": ""
    }
   },
   "source": [
    "# This is a number guessing game where the user have to guess a single digit number. He will get maximum 4 chances to guess the number."
   ]
  },
  {
   "cell_type": "code",
   "execution_count": 14,
   "metadata": {
    "application/vnd.databricks.v1+cell": {
     "cellMetadata": {
      "byteLimit": 2048000,
      "rowLimit": 10000
     },
     "inputWidgets": {},
     "nuid": "ed459497-bc5d-4d1d-a21b-7f1390675de3",
     "showTitle": false,
     "title": ""
    }
   },
   "outputs": [
    {
     "name": "stdout",
     "output_type": "stream",
     "text": [
      "8\n",
      "Hello user, enter your guess: 1\n",
      "Incorrect guess. Enter your next guess\n",
      "---------------------------------------\n",
      "better luck next time. You got 1 chances. \n",
      "The correct guess is 8\n",
      "Hello user, enter your guess: 2\n",
      "Incorrect guess. Enter your next guess\n",
      "---------------------------------------\n",
      "better luck next time. You got 2 chances. \n",
      "The correct guess is 8\n",
      "Hello user, enter your guess: 3\n",
      "Incorrect guess. Enter your next guess\n",
      "---------------------------------------\n",
      "better luck next time. You got 3 chances. \n",
      "The correct guess is 8\n",
      "Hello user, enter your guess: 4\n",
      "Incorrect guess. Enter your next guess\n",
      "---------------------------------------\n",
      "better luck next time. You got 4 chances. \n",
      "The correct guess is 8\n"
     ]
    }
   ],
   "source": [
    "import random as r\n",
    "r_num=r.randint(0,9)\n",
    "print(r_num)\n",
    "\n",
    "\n",
    "for i in range (1,5):\n",
    "    user_guess=int(input('Hello user, enter your guess: '))\n",
    "    if user_guess==r_num:\n",
    "        print('Your guess is correct. You Win')\n",
    "        break\n",
    "    else:\n",
    "        print('Incorrect guess. Enter your next guess')\n",
    "        print('---------------------------------------')\n",
    "    print(f'''better luck next time. You got {i} chances. \n",
    "The correct guess is {r_num}''')\n"
   ]
  },
  {
   "cell_type": "markdown",
   "metadata": {},
   "source": [
    "# Quiz Game"
   ]
  },
  {
   "cell_type": "code",
   "execution_count": 23,
   "metadata": {},
   "outputs": [
    {
     "name": "stdout",
     "output_type": "stream",
     "text": [
      "****************************************\n",
      "1. Which gas do plants absorb from the atmosphere during photosynthesis?\n",
      "A. Oxygen\n",
      "B. Carbon Dioxide\n",
      "C. Nitrogen\n",
      "D. Hydrogen\n",
      "------------------------------------------\n",
      "Enter (A,B,C,D): a\n",
      "Incorrect\n",
      "the correct answer is: B\n",
      "****************************************\n",
      "2. What is the capital city of India?\n",
      "A. Jaipur\n",
      "B. Bangaluru\n",
      "C. Delhi\n",
      "D. Mumbai\n",
      "------------------------------------------\n",
      "Enter (A,B,C,D): b\n",
      "Incorrect\n",
      "the correct answer is: C\n",
      "****************************************\n",
      "3. Who wrote the famous book \"Alchemist?\n",
      "A. franz kafka\n",
      "B. Khaled Hosseini\n",
      "C. William Shakespeare\n",
      "D. Paulo Coelho\n",
      "------------------------------------------\n",
      "Enter (A,B,C,D): c\n",
      "Incorrect\n",
      "the correct answer is: D\n",
      "****************************************\n",
      "4. Which is the largest planet in our solar system?\n",
      "A. Jupiter\n",
      "B. Earth\n",
      "C. Neptune\n",
      "D. Saturn\n",
      "------------------------------------------\n",
      "Enter (A,B,C,D): d\n",
      "Incorrect\n",
      "the correct answer is: A\n",
      "********************************\n",
      "-----------RESULTS--------------\n",
      "--------------------------------\n",
      "Answers:  B C D A \n",
      "Guesses:  A B C D \n",
      "Your score is: 0%\n"
     ]
    }
   ],
   "source": [
    "questions=('1. Which gas do plants absorb from the atmosphere during photosynthesis?',\n",
    "           '2. What is the capital city of India?',\n",
    "            '3. Who wrote the famous book \"Alchemist?',\n",
    "            '4. Which is the largest planet in our solar system?')\n",
    "    \n",
    "options=[('A. Oxygen','B. Carbon Dioxide','C. Nitrogen','D. Hydrogen'),\n",
    "         ('A. Jaipur','B. Bangaluru','C. Delhi','D. Mumbai'),\n",
    "         ('A. franz kafka','B. Khaled Hosseini','C. William Shakespeare','D. Paulo Coelho'),\n",
    "         ('A. Jupiter','B. Earth','C. Neptune','D. Saturn')]\n",
    "            \n",
    "answers=('B','C','D','A')\n",
    "guesses=[]\n",
    "score=0\n",
    "question_num=0           #(Index veriable)\n",
    "\n",
    "for q in questions:\n",
    "    print('****************************************')\n",
    "    print(q)\n",
    "    for o in options[question_num]:\n",
    "        print(o)\n",
    "    print('------------------------------------------')   \n",
    "    \n",
    "    guess=input('Enter (A,B,C,D): ').upper()\n",
    "    guesses.append(guess)\n",
    "    if guess==answers[question_num]:\n",
    "        score+=1\n",
    "        print('Correct')\n",
    "    else:\n",
    "        print('Incorrect')\n",
    "        print(f'the correct answer is: {answers[question_num]}')\n",
    "    \n",
    "    question_num+=1\n",
    "    \n",
    "    \n",
    "print('********************************')\n",
    "print('-----------RESULTS--------------')  \n",
    "print('--------------------------------')  \n",
    "\n",
    "print('Answers: ',end=' ' )\n",
    "for a in answers:\n",
    "    print(a,end=' ')\n",
    "print()\n",
    "print('Guesses: ',end=' ')\n",
    "for g in guesses:\n",
    "    print(g,end=' ' )\n",
    "print()\n",
    "score=int(score/len(questions)*100)\n",
    "print(f'Your score is: {score}%')\n",
    "    \n",
    "#print(f'Your guesses: {guesses}')\n",
    "#print(f'The answers : {answers}')"
   ]
  },
  {
   "cell_type": "code",
   "execution_count": null,
   "metadata": {},
   "outputs": [],
   "source": []
  }
 ],
 "metadata": {
  "application/vnd.databricks.v1+notebook": {
   "dashboards": [],
   "language": "python",
   "notebookMetadata": {
    "pythonIndentUnit": 4
   },
   "notebookName": "Python Project-1(Number Guessing)",
   "widgets": {}
  },
  "kernelspec": {
   "display_name": "Python 3 (ipykernel)",
   "language": "python",
   "name": "python3"
  },
  "language_info": {
   "codemirror_mode": {
    "name": "ipython",
    "version": 3
   },
   "file_extension": ".py",
   "mimetype": "text/x-python",
   "name": "python",
   "nbconvert_exporter": "python",
   "pygments_lexer": "ipython3",
   "version": "3.10.9"
  }
 },
 "nbformat": 4,
 "nbformat_minor": 1
}
